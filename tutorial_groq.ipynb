{
 "cells": [
  {
   "cell_type": "code",
   "execution_count": null,
   "id": "c0dc0b88",
   "metadata": {},
   "outputs": [
    {
     "name": "stdout",
     "output_type": "stream",
     "text": [
      "The first person to land on the moon was Neil Armstrong. He stepped out of the lunar module Eagle and onto the moon's surface on July 20, 1969, during the Apollo 11 mission. Armstrong famously declared, \"That's one small step for man, one giant leap for mankind,\" as he became the first human to set foot on the moon.\n"
     ]
    }
   ],
   "source": [
    "from langchain_groq import ChatGroq\n",
    "\n",
    "llm = ChatGroq(\n",
    "    temperature=0, \n",
    "    groq_api_key='API_key', \n",
    "    model_name=\"llama-3.3-70b-versatile\"\n",
    ")\n",
    "\n",
    "response = llm.invoke(\"The first person to land on moon was ...\")\n",
    "print(response.content)"
   ]
  },
  {
   "cell_type": "code",
   "execution_count": null,
   "id": "c46e5c5b",
   "metadata": {},
   "outputs": [],
   "source": []
  },
  {
   "cell_type": "code",
   "execution_count": null,
   "id": "cb940450",
   "metadata": {},
   "outputs": [
    {
     "name": "stdout",
     "output_type": "stream",
     "text": [
      "<think>\n",
      "Okay, so I need to figure out who the first person to land on the moon was. I remember hearing about the Apollo missions in school, but I'm a bit fuzzy on the details. Let me think through this step by step.\n",
      "\n",
      "First, I know that the Apollo program was a NASA mission aimed at landing humans on the moon. I think it was during the late 1960s. The most famous one is probably Apollo 11 because that's the one that actually landed on the moon. So, Apollo 11 must have been the first mission to do that.\n",
      "\n",
      "Now, who were the astronauts on Apollo 11? I remember there were three of them. Their names were Neil Armstrong, Buzz Aldrin, and Michael Collins. I think Michael Collins stayed in the command module orbiting the moon while the other two went down to the surface. So, Neil Armstrong and Buzz Aldrin were the ones who landed on the moon.\n",
      "\n",
      "Wait, but who actually stepped out first? I believe it was Neil Armstrong. He's the one who said, \"That's one small step for man, one giant leap for mankind.\" That quote is pretty famous, so it must have been him. Buzz Aldrin joined him shortly after, but Armstrong was the first to set foot on the moon.\n",
      "\n",
      "I'm trying to remember the exact date. I think it was in July 1969. Maybe July 20th? That sounds right because I've heard the anniversary referred to as July 20. So, putting it all together, Neil Armstrong was the first person to land on the moon on July 20, 1969, as part of the Apollo 11 mission.\n",
      "\n",
      "I don't think there were any other missions before Apollo 11 that successfully landed humans on the moon. Apollo 10 was a dress rehearsal where they tested the lunar module in orbit but didn't actually land. So, Apollo 11 was the first to make the landing.\n",
      "\n",
      "I wonder if there were any other countries that tried to land on the moon around the same time. I know the Soviet Union had their own space program, but I think their focus was more on sending the first satellite, Sputnik, and the first human, Yuri Gagarin, into space. They didn't land on the moon before the US did, as far as I know.\n",
      "\n",
      "So, to sum up, the first person to land on the moon was Neil Armstrong during the Apollo 11 mission on July 20, 1969. He stepped out of the lunar module Eagle and onto the moon's surface, making history.\n",
      "</think>\n",
      "\n",
      "The first person to land on the moon was Neil Armstrong. He made history by stepping onto the lunar surface on July 20, 1969, during the Apollo 11 mission. Armstrong famously declared, \"That's one small step for man, one giant leap for mankind,\" as he became the first human to set foot on the moon. This historic event was part of the Apollo 11 mission, where Armstrong and Buzz Aldrin landed the lunar module Eagle while Michael Collins remained in orbit around the moon in the command module Columbia.\n"
     ]
    }
   ],
   "source": [
    "from langchain_groq import ChatGroq\n",
    "\n",
    "llm = ChatGroq(\n",
    "    model=\"deepseek-r1-distill-llama-70b\",\n",
    "    temperature=0,\n",
    "    groq_api_key='api_key', \n",
    "   \n",
    ")\n",
    "\n",
    "response = llm.invoke(\"The first person to land on moon was ...\")\n",
    "print(response.content)"
   ]
  },
  {
   "cell_type": "code",
   "execution_count": 3,
   "id": "52286f60",
   "metadata": {},
   "outputs": [],
   "source": [
    "# pip install langchain-groq\n",
    "# "
   ]
  },
  {
   "cell_type": "code",
   "execution_count": null,
   "id": "d46c4a12",
   "metadata": {},
   "outputs": [],
   "source": []
  }
 ],
 "metadata": {
  "kernelspec": {
   "display_name": "amar",
   "language": "python",
   "name": "python3"
  },
  "language_info": {
   "codemirror_mode": {
    "name": "ipython",
    "version": 3
   },
   "file_extension": ".py",
   "mimetype": "text/x-python",
   "name": "python",
   "nbconvert_exporter": "python",
   "pygments_lexer": "ipython3",
   "version": "3.11.11"
  }
 },
 "nbformat": 4,
 "nbformat_minor": 5
}
