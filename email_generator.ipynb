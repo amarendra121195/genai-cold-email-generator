{
 "cells": [
  {
   "cell_type": "code",
   "execution_count": 5,
   "id": "9fa44a1a",
   "metadata": {},
   "outputs": [],
   "source": [
    "from langchain_groq import ChatGroq"
   ]
  },
  {
   "cell_type": "code",
   "execution_count": null,
   "id": "99af54c8",
   "metadata": {},
   "outputs": [
    {
     "name": "stdout",
     "output_type": "stream",
     "text": [
      "The first person to land on the moon was Neil Armstrong. He stepped out of the lunar module Eagle and onto the moon's surface on July 20, 1969, as part of the Apollo 11 mission. Armstrong famously declared, \"That's one small step for man, one giant leap for mankind,\" as he became the first human to set foot on the moon.\n"
     ]
    }
   ],
   "source": [
    "llm = ChatGroq(\n",
    "    temperature=0, \n",
    "    groq_api_key='api_key', \n",
    "    model_name=\"llama-3.3-70b-versatile\"\n",
    ")\n",
    "response = llm.invoke(\"The first person to land on moon was ...\")\n",
    "print(response.content)"
   ]
  },
  {
   "cell_type": "code",
   "execution_count": 68,
   "id": "21e4e62e",
   "metadata": {},
   "outputs": [
    {
     "name": "stdout",
     "output_type": "stream",
     "text": [
      "Nike Careers Skip to main content Open Virtual Assistant Home Career Areas Total Rewards Life@Nike Purpose Language Select a Language Deutsch English Español (España) Español (América Latina) Français Italiano Nederlands Polski Tiếng Việt Türkçe 简体中文 繁體中文 עִברִית 한국어 日本語 Careers Close Menu Careers Chat Home Career Areas Total Rewards Life@Nike Purpose Jordan Careers Converse Careers Language Menu Return to Previous Menu Select a Language Deutsch English Español (España) Español (América Latina) Français Italiano Nederlands Polski Tiếng Việt Türkçe 简体中文 繁體中文 עִברִית 한국어 日本語 Your browser doesn't support HTML5 video tag. Play Full Video WHAT MOVES YOUMOVES OUR WORLD Pause Video Play Video Play 'How We Do It' video Play 'Victory Mode' video' Play 'Craft the Future' video Be In the Know The Nike Internship Experience Learn More AI/ML Roles for Innovators Learn More Peek Into Our World Learn More NikeUNITED's Commitment Learn More IF YOU HAVE A BODY, YOU ARE AN ATHLETE.* These words drive who we are and what we believe in – a better future for ourselves, our communities and our athletes. We strive to bring inspiration and innovation to every athlete in the world, including our teammates. More Than Love of the Brand WHAT MOVES US Serve Athletes We believe in the power of sport. Taking ownership of our shared responsibility to action the voice of all athletes, we push ourselves and each other, turning ambition into achievement. Expand Serve Athletes Section Create the Future of Sport We understand every idea must meet a need and move people closer to their goals. That's why we're not afraid to fail - because innovation depends on risk. Expand Create the Future of Sport section Be On the Offense Always Agility is our edge. We put the consumer first by setting the pace, acting decisively and driving change to meet their needs. Expand Be On the Offense Always section Do the Right Thing We value our unique opportunity to put ethics into action on the journey to level the playing field for all. This requires accountability, meaning we consistently make calls and own the results. Expand Do the Right Thing section Win as a Team We are strong together. Creating an environment where deep connections champion collaboration, it is expected that each player not only contributes to our collective wins but celebrates them. Expand Win as a Team section Go to Previous Slide Go to Next Slide Reinforcing Our Position CULTURE IN ACTION There is a sense of pride that comes from representing an iconic brand and shaping its future. Here, we treat every day as a new opportunity to push boundaries, ask tough questions and share whole-hearted convictions. We are a team – united by the belief that anything is possible. Learn More About Culture Elevating Your Well-Being FROM THE INSIDE OUT Rest and recovery are critical for you to be able to deliver at peak performance. You can count on us to walk the talk, providing resources and time that help keep life balanced and yourself fueled for any challenge. Compassion and flexibility enhance the supportive nature of our community. Learn More About Benefits Lacing Up for the Greater Good PURPOSE AT PLAY Moving the world forward through sport is no small feat. Together, we take steps to drive change by putting social impact and planet protection first. This shared passion for doing what's right fuels the NIKE, Inc. legacy and drives us forward. Learn More One Team. Iconic Brands. BEYOND THE SWOOSH Converse Bringing together those independent enough not to follow, we are catalyzing the collective power of people who see their differences as strengths. Converse is a creative team channeling ambition, expertise, and self-expression to drive innovation. Learn More About Converse Jordan Extending beyond sports into culture and fashion, Jordan Brand is bound by a commitment to serve a community representative of Michael himself. Those who make up this team thrive in an entrepreneurial environment, where creative problem-solving is leveraged to drive innovation. Search Jordan Careers Explore Careers Search Retail Careers Search Distribution Careers Search Manufacturing Careers Search Corporate Careers Search Open Internships SEARCH CAREERS Close Modal Apply Filters Clear Filters All Careers Retail Distribution Manufacturing Corporate Internships Keyword SearchLocation SearchUse your locationUse your locationSearch Filters Filter ResultsCareer AreasAdvanced Innovation2Business Operations16Data5Design14Facilities & Real Estate10Finance & Accounting2Government & Public Affairs1Human Resources3Information Technology4Position TypeFull Time673Part Time282Is RemoteNo975Yes15BrandCONVERSE59JORDAN1NIKE930cf_employee_typeFixed Term Contract (Fixed Term)189Intern (Fixed Term)11Regular651Seasonal (Fixed Term) (Seasonal)122Temp Casual (Fixed Term)12Temp Trainee (Trainee)5cf_job_categoryCorporate234Distribution4Manufacturing6Retail746Clear Filter Join The Talent Community Contract Jobs - USA Only* Edit Filters ATHLETE ADDETTO ALLE VENDITE 21H - CATEGORIA PROTETTA (L.68/99) - NFS Mantova Outlet VillageR-66068Mantova, Mantova, ItalyRetail StoresView JobAbteilungsleiter (Coach) (w/m/d) – 37,5h – NFS München BrunnthalR-61487Brunnthal, Munich, Bavaria, GermanyRetail StoresView JobAbteilungsleiter (m/w/d) (Coach) - 38.5h - Nike SalzburgR-68294Salzburg, Salzburg, AustriaRetail StoresView JobAbteilungsleiter/in (Coach) - 100% - NFS LandquartR-41112Landquart, Graubunden, SwitzerlandRetail StoresView JobAccounting Admin - DolphinR-64380Miami, Florida, United StatesRetail StoresView JobAccounting/Administrative Assistant - Edinburgh, INR-57501Edinburgh, Indiana, United StatesRetail StoresView JobAddetto vendite/Athlete - JOC (Job On Call) NUS CASTEL ROMANOR-67937Castel Romano, Roma, ItalyRetail StoresView JobAddetto vendite/Athlete - Part Time 20 h NUS CASTEL ROMANOR-67936Castel Romano, Roma, ItalyRetail StoresView JobAdministrative AssistantR-66384Karnataka, Karnataka, IndiaBusiness OperationsView JobAlternance Team Lead (Chef d'equipe) H/FR-64129Toulon, Var, FranceRetail StoresView Job 1020Go to first pageGo to previous page12345678910Go to next pageGo to last page Close Home About Us Contact Talent Community Terms Nike Applicant Privacy Policy We offer a number of accommodations to complete our interview process including screen readers, sign language interpreters, accessible and single location for in-person interviews, closed captioning, and other reasonable modifications as needed. If you discover, as you navigate our application process, that you need assistance or an accommodation due to a disability, please contact us at +1 503-671-4156 and include your full name, best way to reach you, and the accommodation you request to assist with the application process. For more information, please refer to Equal Employment Opportunity is The Law. © Nike, Inc. All Rights Reserved Careers Chat Chat with our AI Assistant\n"
     ]
    }
   ],
   "source": [
    "from langchain_community.document_loaders import WebBaseLoader\n",
    "from bs4 import BeautifulSoup\n",
    "import re\n",
    "\n",
    "# Load webpage\n",
    "loader = WebBaseLoader(\"https://jobs.nike.com/job/R-33460\")\n",
    "page_data = loader.load().pop().page_content\n",
    "\n",
    "# Use BeautifulSoup to clean the HTML\n",
    "soup = BeautifulSoup(page_data, \"html.parser\")\n",
    "\n",
    "# Extract only visible text\n",
    "clean_text = soup.get_text(separator=\" \", strip=True)\n",
    "\n",
    "# Remove extra spaces/newlines\n",
    "clean_text = re.sub(r\"\\s+\", \" \", clean_text)\n",
    "\n",
    "# Store it into variable as passage\n",
    "page_data = clean_text  \n",
    "\n",
    "print(page_data)  # print first 500 chars to check"
   ]
  },
  {
   "cell_type": "code",
   "execution_count": 74,
   "id": "17c0af0a",
   "metadata": {},
   "outputs": [],
   "source": [
    "page_data = \"\"\"\n",
    "Nike, Inc. is a global leader in the design, development, and marketing of athletic footwear, apparel, equipment, and accessories.\n",
    "We are seeking a highly motivated and experienced Senior Software Engineer to join our dynamic team. The ideal candidate will have a strong background in software development, a passion for innovation, and a commitment to excellence.\"\"\""
   ]
  },
  {
   "cell_type": "code",
   "execution_count": 75,
   "id": "96dbe3f9",
   "metadata": {},
   "outputs": [],
   "source": [
    "# pip install langchain-community\n"
   ]
  },
  {
   "cell_type": "code",
   "execution_count": 76,
   "id": "a2ffb4d2",
   "metadata": {},
   "outputs": [
    {
     "data": {
      "text/plain": [
       "str"
      ]
     },
     "execution_count": 76,
     "metadata": {},
     "output_type": "execute_result"
    }
   ],
   "source": [
    "from langchain_core.prompts import PromptTemplate\n",
    "from langchain_groq import ChatGroq\n",
    "from langchain_core.output_parsers import JsonOutputParser\n",
    "\n",
    "prompt_extract = PromptTemplate.from_template(\n",
    "        \"\"\"\n",
    "        ### SCRAPED TEXT FROM WEBSITE:\n",
    "        {page_data}\n",
    "        ### INSTRUCTION:\n",
    "        The scraped text is from the career's page of a website.\n",
    "        Your job is to extract the job postings and return them in JSON format containing the \n",
    "        following keys: `role`, `experience`, `skills` and `description`.\n",
    "        Only return the valid JSON.\n",
    "        ### VALID JSON (NO PREAMBLE):    \n",
    "        \"\"\"\n",
    ")\n",
    "\n",
    "chain_extract = prompt_extract | llm \n",
    "res = chain_extract.invoke(input={'page_data':page_data})\n",
    "type(res.content)"
   ]
  },
  {
   "cell_type": "code",
   "execution_count": 77,
   "id": "75c1220d",
   "metadata": {},
   "outputs": [],
   "source": [
    "# pip install beautifulsoup4"
   ]
  },
  {
   "cell_type": "code",
   "execution_count": 78,
   "id": "4c46b432",
   "metadata": {},
   "outputs": [
    {
     "data": {
      "text/plain": [
       "{'role': 'Senior Software Engineer',\n",
       " 'experience': 'experienced',\n",
       " 'skills': ['software development', 'innovation'],\n",
       " 'description': 'We are seeking a highly motivated and experienced Senior Software Engineer to join our dynamic team. The ideal candidate will have a strong background in software development, a passion for innovation, and a commitment to excellence.'}"
      ]
     },
     "execution_count": 78,
     "metadata": {},
     "output_type": "execute_result"
    }
   ],
   "source": [
    "from langchain_core.output_parsers import JsonOutputParser\n",
    "json_parser = JsonOutputParser()\n",
    "json_res = json_parser.parse(res.content)\n",
    "json_res"
   ]
  },
  {
   "cell_type": "code",
   "execution_count": 79,
   "id": "f268b77c",
   "metadata": {},
   "outputs": [
    {
     "data": {
      "text/plain": [
       "dict"
      ]
     },
     "execution_count": 79,
     "metadata": {},
     "output_type": "execute_result"
    }
   ],
   "source": [
    "type(json_res)"
   ]
  },
  {
   "cell_type": "code",
   "execution_count": 80,
   "id": "30ff1edd",
   "metadata": {},
   "outputs": [
    {
     "data": {
      "text/html": [
       "<div>\n",
       "<style scoped>\n",
       "    .dataframe tbody tr th:only-of-type {\n",
       "        vertical-align: middle;\n",
       "    }\n",
       "\n",
       "    .dataframe tbody tr th {\n",
       "        vertical-align: top;\n",
       "    }\n",
       "\n",
       "    .dataframe thead th {\n",
       "        text-align: right;\n",
       "    }\n",
       "</style>\n",
       "<table border=\"1\" class=\"dataframe\">\n",
       "  <thead>\n",
       "    <tr style=\"text-align: right;\">\n",
       "      <th></th>\n",
       "      <th>Techstack</th>\n",
       "      <th>Links</th>\n",
       "    </tr>\n",
       "  </thead>\n",
       "  <tbody>\n",
       "    <tr>\n",
       "      <th>0</th>\n",
       "      <td>React, Node.js, MongoDB</td>\n",
       "      <td>https://example.com/react-portfolio</td>\n",
       "    </tr>\n",
       "    <tr>\n",
       "      <th>1</th>\n",
       "      <td>Angular,.NET, SQL Server</td>\n",
       "      <td>https://example.com/angular-portfolio</td>\n",
       "    </tr>\n",
       "    <tr>\n",
       "      <th>2</th>\n",
       "      <td>Vue.js, Ruby on Rails, PostgreSQL</td>\n",
       "      <td>https://example.com/vue-portfolio</td>\n",
       "    </tr>\n",
       "    <tr>\n",
       "      <th>3</th>\n",
       "      <td>Python, Django, MySQL</td>\n",
       "      <td>https://example.com/python-portfolio</td>\n",
       "    </tr>\n",
       "    <tr>\n",
       "      <th>4</th>\n",
       "      <td>Java, Spring Boot, Oracle</td>\n",
       "      <td>https://example.com/java-portfolio</td>\n",
       "    </tr>\n",
       "    <tr>\n",
       "      <th>5</th>\n",
       "      <td>Flutter, Firebase, GraphQL</td>\n",
       "      <td>https://example.com/flutter-portfolio</td>\n",
       "    </tr>\n",
       "    <tr>\n",
       "      <th>6</th>\n",
       "      <td>WordPress, PHP, MySQL</td>\n",
       "      <td>https://example.com/wordpress-portfolio</td>\n",
       "    </tr>\n",
       "    <tr>\n",
       "      <th>7</th>\n",
       "      <td>Magento, PHP, MySQL</td>\n",
       "      <td>https://example.com/magento-portfolio</td>\n",
       "    </tr>\n",
       "    <tr>\n",
       "      <th>8</th>\n",
       "      <td>React Native, Node.js, MongoDB</td>\n",
       "      <td>https://example.com/react-native-portfolio</td>\n",
       "    </tr>\n",
       "    <tr>\n",
       "      <th>9</th>\n",
       "      <td>iOS, Swift, Core Data</td>\n",
       "      <td>https://example.com/ios-portfolio</td>\n",
       "    </tr>\n",
       "    <tr>\n",
       "      <th>10</th>\n",
       "      <td>Android, Java, Room Persistence</td>\n",
       "      <td>https://example.com/android-portfolio</td>\n",
       "    </tr>\n",
       "    <tr>\n",
       "      <th>11</th>\n",
       "      <td>Kotlin, Android, Firebase</td>\n",
       "      <td>https://example.com/kotlin-android-portfolio</td>\n",
       "    </tr>\n",
       "    <tr>\n",
       "      <th>12</th>\n",
       "      <td>Android TV, Kotlin, Android NDK</td>\n",
       "      <td>https://example.com/android-tv-portfolio</td>\n",
       "    </tr>\n",
       "    <tr>\n",
       "      <th>13</th>\n",
       "      <td>iOS, Swift, ARKit</td>\n",
       "      <td>https://example.com/ios-ar-portfolio</td>\n",
       "    </tr>\n",
       "    <tr>\n",
       "      <th>14</th>\n",
       "      <td>Cross-platform, Xamarin, Azure</td>\n",
       "      <td>https://example.com/xamarin-portfolio</td>\n",
       "    </tr>\n",
       "    <tr>\n",
       "      <th>15</th>\n",
       "      <td>Backend, Kotlin, Spring Boot</td>\n",
       "      <td>https://example.com/kotlin-backend-portfolio</td>\n",
       "    </tr>\n",
       "    <tr>\n",
       "      <th>16</th>\n",
       "      <td>Frontend, TypeScript, Angular</td>\n",
       "      <td>https://example.com/typescript-frontend-portfolio</td>\n",
       "    </tr>\n",
       "    <tr>\n",
       "      <th>17</th>\n",
       "      <td>Full-stack, JavaScript, Express.js</td>\n",
       "      <td>https://example.com/full-stack-js-portfolio</td>\n",
       "    </tr>\n",
       "    <tr>\n",
       "      <th>18</th>\n",
       "      <td>Machine Learning, Python, TensorFlow</td>\n",
       "      <td>https://example.com/ml-python-portfolio</td>\n",
       "    </tr>\n",
       "    <tr>\n",
       "      <th>19</th>\n",
       "      <td>DevOps, Jenkins, Docker</td>\n",
       "      <td>https://example.com/devops-portfolio</td>\n",
       "    </tr>\n",
       "  </tbody>\n",
       "</table>\n",
       "</div>"
      ],
      "text/plain": [
       "                               Techstack  \\\n",
       "0                React, Node.js, MongoDB   \n",
       "1               Angular,.NET, SQL Server   \n",
       "2      Vue.js, Ruby on Rails, PostgreSQL   \n",
       "3                  Python, Django, MySQL   \n",
       "4              Java, Spring Boot, Oracle   \n",
       "5             Flutter, Firebase, GraphQL   \n",
       "6                  WordPress, PHP, MySQL   \n",
       "7                    Magento, PHP, MySQL   \n",
       "8         React Native, Node.js, MongoDB   \n",
       "9                  iOS, Swift, Core Data   \n",
       "10       Android, Java, Room Persistence   \n",
       "11             Kotlin, Android, Firebase   \n",
       "12       Android TV, Kotlin, Android NDK   \n",
       "13                     iOS, Swift, ARKit   \n",
       "14        Cross-platform, Xamarin, Azure   \n",
       "15          Backend, Kotlin, Spring Boot   \n",
       "16         Frontend, TypeScript, Angular   \n",
       "17    Full-stack, JavaScript, Express.js   \n",
       "18  Machine Learning, Python, TensorFlow   \n",
       "19               DevOps, Jenkins, Docker   \n",
       "\n",
       "                                                Links  \n",
       "0                 https://example.com/react-portfolio  \n",
       "1               https://example.com/angular-portfolio  \n",
       "2                   https://example.com/vue-portfolio  \n",
       "3                https://example.com/python-portfolio  \n",
       "4                  https://example.com/java-portfolio  \n",
       "5               https://example.com/flutter-portfolio  \n",
       "6             https://example.com/wordpress-portfolio  \n",
       "7               https://example.com/magento-portfolio  \n",
       "8          https://example.com/react-native-portfolio  \n",
       "9                   https://example.com/ios-portfolio  \n",
       "10              https://example.com/android-portfolio  \n",
       "11       https://example.com/kotlin-android-portfolio  \n",
       "12           https://example.com/android-tv-portfolio  \n",
       "13               https://example.com/ios-ar-portfolio  \n",
       "14              https://example.com/xamarin-portfolio  \n",
       "15       https://example.com/kotlin-backend-portfolio  \n",
       "16  https://example.com/typescript-frontend-portfolio  \n",
       "17        https://example.com/full-stack-js-portfolio  \n",
       "18            https://example.com/ml-python-portfolio  \n",
       "19               https://example.com/devops-portfolio  "
      ]
     },
     "execution_count": 80,
     "metadata": {},
     "output_type": "execute_result"
    }
   ],
   "source": [
    "import pandas as pd\n",
    "\n",
    "df = pd.read_csv(\"my_portfolio.csv\")\n",
    "df"
   ]
  },
  {
   "cell_type": "code",
   "execution_count": 81,
   "id": "a490cf4a",
   "metadata": {},
   "outputs": [],
   "source": [
    "import uuid\n",
    "import chromadb\n",
    "\n",
    "#persistent storage in vectorstore directory in the project folder\n",
    "# if i used Client in taht case it will store in memory and will be lost once the program stops\n",
    "client = chromadb.PersistentClient('vectorstore')\n",
    "collection = client.get_or_create_collection(name=\"portfolio\")\n",
    "\n",
    "if not collection.count():\n",
    "    for _, row in df.iterrows():\n",
    "        collection.add(documents=row[\"Techstack\"],\n",
    "                       metadatas={\"links\": row[\"Links\"]},\n",
    "                       ids=[str(uuid.uuid4())])"
   ]
  },
  {
   "cell_type": "code",
   "execution_count": 82,
   "id": "dad89d62",
   "metadata": {},
   "outputs": [
    {
     "name": "stdout",
     "output_type": "stream",
     "text": [
      "<class 'dict'>\n",
      "{'role': 'Senior Software Engineer', 'experience': 'experienced', 'skills': ['software development', 'innovation'], 'description': 'We are seeking a highly motivated and experienced Senior Software Engineer to join our dynamic team. The ideal candidate will have a strong background in software development, a passion for innovation, and a commitment to excellence.'}\n"
     ]
    }
   ],
   "source": [
    "# If json_res is a list of dicts, take the first dict\n",
    "if isinstance(json_res, list) and len(json_res) > 0:\n",
    "    json_res = json_res[0]\n",
    "\n",
    "print(type(json_res))  # <class 'dict'>\n",
    "print(json_res)  "
   ]
  },
  {
   "cell_type": "code",
   "execution_count": 83,
   "id": "f38cd2c3",
   "metadata": {},
   "outputs": [],
   "source": [
    "page_data = \"\""
   ]
  },
  {
   "cell_type": "code",
   "execution_count": null,
   "id": "6bb31042",
   "metadata": {},
   "outputs": [],
   "source": []
  },
  {
   "cell_type": "code",
   "execution_count": 84,
   "id": "4dfa9c82",
   "metadata": {},
   "outputs": [
    {
     "data": {
      "text/plain": [
       "{'role': 'Senior Software Engineer',\n",
       " 'experience': 'experienced',\n",
       " 'skills': ['software development', 'innovation'],\n",
       " 'description': 'We are seeking a highly motivated and experienced Senior Software Engineer to join our dynamic team. The ideal candidate will have a strong background in software development, a passion for innovation, and a commitment to excellence.'}"
      ]
     },
     "execution_count": 84,
     "metadata": {},
     "output_type": "execute_result"
    }
   ],
   "source": [
    "json_res"
   ]
  },
  {
   "cell_type": "code",
   "execution_count": 85,
   "id": "af9554a4",
   "metadata": {},
   "outputs": [
    {
     "data": {
      "text/plain": [
       "[[{'links': 'https://example.com/kotlin-backend-portfolio'},\n",
       "  {'links': 'https://example.com/ios-ar-portfolio'}]]"
      ]
     },
     "execution_count": 85,
     "metadata": {},
     "output_type": "execute_result"
    }
   ],
   "source": [
    "links = collection.query(query_texts=job['skills'], n_results=2).get('metadatas', [])\n",
    "links"
   ]
  },
  {
   "cell_type": "code",
   "execution_count": null,
   "id": "acbf24b8",
   "metadata": {},
   "outputs": [],
   "source": []
  },
  {
   "cell_type": "code",
   "execution_count": 87,
   "id": "39d87f8a",
   "metadata": {},
   "outputs": [
    {
     "data": {
      "text/plain": [
       "['software development', 'innovation']"
      ]
     },
     "execution_count": 87,
     "metadata": {},
     "output_type": "execute_result"
    }
   ],
   "source": [
    "job = json_res\n",
    "job['skills']"
   ]
  },
  {
   "cell_type": "code",
   "execution_count": null,
   "id": "97598dc9",
   "metadata": {},
   "outputs": [
    {
     "name": "stdout",
     "output_type": "stream",
     "text": [
      "Subject: Expert Software Development Solutions for Your Business\n",
      "\n",
      "Dear Hiring Manager,\n",
      "\n",
      "I came across your job posting for a Senior Software Engineer and was impressed by your company's commitment to innovation and excellence. As a Business Development Executive at ak.tech, I'd like to introduce you to our AI & Software Consulting company, which has a proven track record of empowering enterprises with tailored solutions that drive scalability, process optimization, cost reduction, and heightened overall efficiency.\n",
      "\n",
      "Our team of expert software engineers has a strong background in software development and a passion for innovation, aligning perfectly with your job requirements. We've successfully delivered numerous projects that showcase our capabilities in software development, including our Kotlin Backend Portfolio (https://example.com/kotlin-backend-portfolio) and iOS AR Portfolio (https://example.com/ios-ar-portfolio). These projects demonstrate our ability to design, develop, and deploy cutting-edge software solutions that meet the unique needs of our clients.\n",
      "\n",
      "At ak.tech, we're dedicated to facilitating the seamless integration of business processes through automated tools. Our experienced team is well-equipped to handle complex software development projects, and we're confident that we can provide the expertise you need to drive your business forward.\n",
      "\n",
      "If you're looking for a trusted partner to help you find the right talent or develop custom software solutions, I'd be delighted to schedule a call to discuss how ak.tech can support your business goals. Please let me know if you're interested, and I'll be happy to set up a time that suits you.\n",
      "\n",
      "Best regards,\n",
      "\n",
      "Mohan\n",
      "Business Development Executive\n",
      "ak.tech\n"
     ]
    }
   ],
   "source": [
    "prompt_email = PromptTemplate.from_template(\n",
    "        \"\"\"\n",
    "        ### JOB DESCRIPTION:\n",
    "        {job_description}\n",
    "        \n",
    "        ### INSTRUCTION:\n",
    "        You are Amarendra, a business development executive at ak.tech is an AI & Software Consulting company dedicated to facilitating\n",
    "        the seamless integration of business processes through automated tools. \n",
    "        Over our experience, we have empowered numerous enterprises with tailored solutions, fostering scalability, \n",
    "        process optimization, cost reduction, and heightened overall efficiency. \n",
    "        Your job is to write a cold email to the client regarding the job mentioned above describing the capability of ak.tech \n",
    "        in fulfilling their needs.\n",
    "        Also add the most relevant ones from the following links to showcase ak.tech portfolio: {link_list}\n",
    "        Remember you are Mohan, BDE at ak.tech. \n",
    "        Do not provide a preamble.\n",
    "        ### EMAIL (NO PREAMBLE):\n",
    "        \n",
    "        \"\"\"\n",
    "        )\n",
    "\n",
    "chain_email = prompt_email | llm\n",
    "res = chain_email.invoke({\"job_description\": str(job), \"link_list\": links})\n",
    "print(res.content)"
   ]
  },
  {
   "cell_type": "code",
   "execution_count": null,
   "id": "d13f22c8",
   "metadata": {},
   "outputs": [],
   "source": []
  }
 ],
 "metadata": {
  "kernelspec": {
   "display_name": "amar",
   "language": "python",
   "name": "python3"
  },
  "language_info": {
   "codemirror_mode": {
    "name": "ipython",
    "version": 3
   },
   "file_extension": ".py",
   "mimetype": "text/x-python",
   "name": "python",
   "nbconvert_exporter": "python",
   "pygments_lexer": "ipython3",
   "version": "3.11.11"
  }
 },
 "nbformat": 4,
 "nbformat_minor": 5
}
